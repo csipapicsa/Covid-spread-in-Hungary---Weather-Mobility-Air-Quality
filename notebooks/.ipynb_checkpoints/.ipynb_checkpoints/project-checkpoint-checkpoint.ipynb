{
 "cells": [
  {
   "cell_type": "code",
   "execution_count": 1,
   "metadata": {},
   "outputs": [],
   "source": [
    "import numpy as np\n",
    "import csv"
   ]
  },
  {
   "cell_type": "code",
   "execution_count": 13,
   "metadata": {},
   "outputs": [
    {
     "name": "stdout",
     "output_type": "stream",
     "text": [
      "Raw Data SHape (117536, 32)\n",
      "sum of raw Liverpool:  907\n",
      "cleaned data shape (907, 32)\n"
     ]
    }
   ],
   "source": [
    "# read in data file\n",
    "raw_data_accidents = np.genfromtxt(\"../data/raw/Road Safety Data - Accidents 2019.csv\", skip_header=1, delimiter=',')\n",
    "print(\"Raw Data SHape\", raw_data_accidents.shape)\n",
    "\n",
    "'''\n",
    "-1 = Data missing, or invalid. Should we delete all of them? I dont think so. \n",
    "'''\n",
    "\n",
    "\n",
    "# clear - Only Liverpool\n",
    "id_mask = raw_data_accidents[:,12] == 91 #Liverpool district\n",
    "print(\"Sum of raw Liverpool: \",sum(id_mask))\n",
    "liverpoolRaw = raw_data_accidents[id_mask]\n",
    "#print(rawColumns.shape)\n",
    "\n",
    "\n",
    "# delete invalid data from \"Accidents 2019.csv\"\n",
    "rawColumns = liverpoolRaw.shape[1]\n",
    "for i in range(rawColumns):\n",
    "    id_mask = liverpoolRaw[:,i] != -1\n",
    "    liverpoolCleaned = liverpoolRaw[id_mask]\n",
    "\n",
    "\n",
    "# cleared data\n",
    "print(\"Cleaned data shape\", liverpoolCleaned.shape)\n",
    "\n",
    "# export sorted data\n",
    "header = np.genfromtxt(\"../data/raw/Road Safety Data - Accidents 2019.csv\", delimiter=',', dtype=str, max_rows=1)\n",
    "\n",
    "with open('accidents_liverpool.csv', mode='w') as csv_file:\n",
    "    writer = csv.writer(csv_file)\n",
    "    writer.writerow(header)\n",
    "    writer.writerows(liverpoolCleaned)"
   ]
  },
  {
   "cell_type": "code",
   "execution_count": null,
   "metadata": {},
   "outputs": [],
   "source": []
  }
 ],
 "metadata": {
  "kernelspec": {
   "display_name": "Python 3",
   "language": "python",
   "name": "python3"
  },
  "language_info": {
   "codemirror_mode": {
    "name": "ipython",
    "version": 3
   },
   "file_extension": ".py",
   "mimetype": "text/x-python",
   "name": "python",
   "nbconvert_exporter": "python",
   "pygments_lexer": "ipython3",
   "version": "3.5.6"
  },
  "varInspector": {
   "cols": {
    "lenName": 16,
    "lenType": 16,
    "lenVar": 40
   },
   "kernels_config": {
    "python": {
     "delete_cmd_postfix": "",
     "delete_cmd_prefix": "del ",
     "library": "var_list.py",
     "varRefreshCmd": "print(var_dic_list())"
    },
    "r": {
     "delete_cmd_postfix": ") ",
     "delete_cmd_prefix": "rm(",
     "library": "var_list.r",
     "varRefreshCmd": "cat(var_dic_list()) "
    }
   },
   "types_to_exclude": [
    "module",
    "function",
    "builtin_function_or_method",
    "instance",
    "_Feature"
   ],
   "window_display": false
  }
 },
 "nbformat": 4,
 "nbformat_minor": 4
}
